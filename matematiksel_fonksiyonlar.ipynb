{
 "cells": [
  {
   "cell_type": "code",
   "execution_count": 3,
   "metadata": {},
   "outputs": [],
   "source": [
    "def arithmetic_average(*x):\n",
    "    \n",
    "    numbers = []\n",
    "    equal = 0 \n",
    "    \n",
    "    while True: \n",
    "        for i in x: \n",
    "            numbers.append(i)\n",
    "            equal += i\n",
    "            a = equal / len(numbers)\n",
    "            print(\"Arithmetic Average is:  \",a)\n",
    "            return numbers\n",
    "        return equal\n",
    "    return arithmetic_average\n",
    "    "
   ]
  },
  {
   "cell_type": "code",
   "execution_count": 4,
   "metadata": {},
   "outputs": [],
   "source": [
    "def summation(*number): #Toplama İşlemi Fonksiyonu \n",
    "    \n",
    "    numbers = []\n",
    "    equal = 0\n",
    "    \n",
    "    while True:\n",
    "        for i in number: \n",
    "            \n",
    "            numbers.append(i)\n",
    "            equal += i \n",
    "        return equal\n",
    "    return numbers"
   ]
  },
  {
   "cell_type": "code",
   "execution_count": null,
   "metadata": {},
   "outputs": [],
   "source": []
  }
 ],
 "metadata": {
  "kernelspec": {
   "display_name": "Python 3.9.2 64-bit",
   "language": "python",
   "name": "python3"
  },
  "language_info": {
   "codemirror_mode": {
    "name": "ipython",
    "version": 3
   },
   "file_extension": ".py",
   "mimetype": "text/x-python",
   "name": "python",
   "nbconvert_exporter": "python",
   "pygments_lexer": "ipython3",
   "version": "3.9.2"
  },
  "orig_nbformat": 4,
  "vscode": {
   "interpreter": {
    "hash": "f6246b25e200e4c5124e3e61789ac81350562f0761bbcf92ad9e48654207659c"
   }
  }
 },
 "nbformat": 4,
 "nbformat_minor": 2
}
