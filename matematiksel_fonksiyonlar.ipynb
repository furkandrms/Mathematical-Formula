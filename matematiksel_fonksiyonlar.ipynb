{
 "cells": [
  {
   "cell_type": "code",
   "execution_count": 21,
   "metadata": {},
   "outputs": [
    {
     "name": "stdout",
     "output_type": "stream",
     "text": [
      "it's not values in equation\n"
     ]
    }
   ],
   "source": [
    "def equation_second_degree():\n",
    "    a=int(input())\n",
    "    b=int(input())\n",
    "    c=int(input())\n",
    "    delta = (b**2 -4*(a*c))\n",
    "    if (delta > 0):\n",
    "        x1 = (-b + (delta**0.5))/2*a\n",
    "        x2 = (-b- (delta**0.5))/2*a\n",
    "        print(\"{},{}\".format(x1,x2))\n",
    "    elif delta == 0:\n",
    "        x1 = (-b/2*a)\n",
    "        print(\"Tek kök var : {} \".format(x1))\n",
    "    else:\n",
    "        print(\"it's not values in equation\")\n",
    "        \n",
    "equation_second_degree()"
   ]
  },
  {
   "cell_type": "code",
   "execution_count": 22,
   "metadata": {},
   "outputs": [
    {
     "data": {
      "text/plain": [
       "\"it's not values in equation\""
      ]
     },
     "execution_count": 22,
     "metadata": {},
     "output_type": "execute_result"
    }
   ],
   "source": [
    "def equation_second_degree():\n",
    "    a=int(input())\n",
    "    b=int(input())\n",
    "    c=int(input())\n",
    "    delta = (b**2 -4*(a*c))\n",
    "    if (delta > 0):\n",
    "        x1 = (-b + (delta**0.5))/(2*a)\n",
    "        x2 = (-b- (delta**0.5))/(2*a)\n",
    "        return x1,x2\n",
    "    elif delta == 0:\n",
    "        x1 = (-b/2*a)\n",
    "        return x1\n",
    "    else:\n",
    "        return \"it's not values in equation\"\n",
    "        \n",
    "equation_second_degree()"
   ]
  },
  {
   "cell_type": "code",
   "execution_count": 23,
   "metadata": {},
   "outputs": [
    {
     "data": {
      "text/plain": [
       "(-6.492189406417879, -38.50781059358212)"
      ]
     },
     "execution_count": 23,
     "metadata": {},
     "output_type": "execute_result"
    }
   ],
   "source": [
    "def equation_second_degree():\n",
    "    \n",
    "    a=int(input())\n",
    "    b=int(input())\n",
    "    c=int(input())\n",
    "    \n",
    "    while True: \n",
    "        \n",
    "        delta = (b**2 -4*(a*c))\n",
    "        \n",
    "        if (delta > 0):\n",
    "            x1 = (-b + (delta**0.5))/2*a\n",
    "            x2 = (-b- (delta**0.5))/2*a\n",
    "            return x1,x2\n",
    "        elif delta == 0:\n",
    "            x1 = (-b/2*a)\n",
    "            return x1\n",
    "        else:\n",
    "            return \"it's not values in equation\"\n",
    "        \n",
    "equation_second_degree()"
   ]
  },
  {
   "cell_type": "code",
   "execution_count": 24,
   "metadata": {},
   "outputs": [],
   "source": [
    "def equation_second_degree():\n",
    "    \n",
    "    a=int(input())\n",
    "    b=int(input())\n",
    "    c=int(input())\n",
    "     \n",
    "    while True: \n",
    "        \n",
    "        delta = (b**2 -4*(a*c))\n",
    "        if (delta > 0):\n",
    "            x1 = (-b + (delta**0.5))/2*a\n",
    "            x2 = (-b- (delta**0.5))/2*a\n",
    "            return x1,x2\n",
    "        elif delta == 0:\n",
    "            x1 = (-b/2*a)\n",
    "            return x1\n",
    "        else:\n",
    "            print(\"It's not values in this equation\")\n",
    "        return equation_second_degree"
   ]
  },
  {
   "cell_type": "code",
   "execution_count": null,
   "metadata": {},
   "outputs": [],
   "source": []
  }
 ],
 "metadata": {
  "kernelspec": {
   "display_name": "Python 3.9.2 64-bit",
   "language": "python",
   "name": "python3"
  },
  "language_info": {
   "codemirror_mode": {
    "name": "ipython",
    "version": 3
   },
   "file_extension": ".py",
   "mimetype": "text/x-python",
   "name": "python",
   "nbconvert_exporter": "python",
   "pygments_lexer": "ipython3",
   "version": "3.9.2"
  },
  "orig_nbformat": 4,
  "vscode": {
   "interpreter": {
    "hash": "f6246b25e200e4c5124e3e61789ac81350562f0761bbcf92ad9e48654207659c"
   }
  }
 },
 "nbformat": 4,
 "nbformat_minor": 2
}
